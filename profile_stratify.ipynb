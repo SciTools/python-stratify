{
 "cells": [
  {
   "cell_type": "code",
   "execution_count": 1,
   "id": "qualified-tissue",
   "metadata": {},
   "outputs": [],
   "source": [
    "from dask.distributed import Client, progress\n",
    "import dask.array as da\n",
    "from dask.diagnostics import Profiler, ResourceProfiler, CacheProfiler, visualize\n",
    "import numpy as np\n",
    "import stratify\n"
   ]
  },
  {
   "cell_type": "code",
   "execution_count": null,
   "id": "spoken-national",
   "metadata": {},
   "outputs": [],
   "source": [
    "client = Client(processes=False, threads_per_worker=2,\n",
    "                n_workers=1)\n",
    "client\n"
   ]
  },
  {
   "cell_type": "code",
   "execution_count": 2,
   "id": "strong-requirement",
   "metadata": {},
   "outputs": [
    {
     "name": "stdout",
     "output_type": "stream",
     "text": [
      "0.49173831939697266\n",
      "((750, 750, 750, 750), (500, 500), (22,))\n"
     ]
    }
   ],
   "source": [
    "def src_data(shape=(400, 500, 100)):\n",
    "    z = np.tile(np.linspace(0, 100, shape[-1]),\n",
    "                np.prod(shape[:-1])).reshape(shape)\n",
    "    fz = np.arange(np.prod(shape)).reshape(shape)\n",
    "    return z, fz\n",
    "\n",
    "\n",
    "def interp(tgt, z, fz,\n",
    "           interp=stratify.INTERPOLATE_LINEAR,\n",
    "            extrap=stratify.EXTRAPOLATE_NAN):\n",
    "    return stratify.interpolate(tgt, z, fz,\n",
    "                                interpolation=interp, extrapolation=extrap)\n",
    "\n",
    "shape=(3000, 1000, 22)\n",
    "print(np.prod(shape) * 8 / 1024**3)\n",
    "z, fz = src_data(shape)\n",
    "\n",
    "fz_lazy = da.asarray(fz)\n",
    "z_lazy = da.asarray(z)\n",
    "print(fz_lazy.chunks)\n"
   ]
  },
  {
   "cell_type": "code",
   "execution_count": 12,
   "id": "interracial-knight",
   "metadata": {},
   "outputs": [
    {
     "name": "stdout",
     "output_type": "stream",
     "text": [
      "[0]\n"
     ]
    }
   ],
   "source": [
    "tgt_single = np.array([0])\n",
    "print(tgt_single)"
   ]
  },
  {
   "cell_type": "code",
   "execution_count": 10,
   "id": "accepted-reach",
   "metadata": {},
   "outputs": [
    {
     "name": "stdout",
     "output_type": "stream",
     "text": [
      "[-20.         -17.14285714 -14.28571429 -11.42857143  -8.57142857\n",
      "  -5.71428571  -2.85714286   0.           2.85714286   5.71428571\n",
      "   8.57142857  11.42857143  14.28571429  17.14285714  20.\n",
      "  22.85714286  25.71428571  28.57142857  31.42857143  34.28571429\n",
      "  37.14285714  40.          42.85714286  45.71428571  48.57142857\n",
      "  51.42857143  54.28571429  57.14285714  60.          62.85714286\n",
      "  65.71428571  68.57142857  71.42857143  74.28571429  77.14285714\n",
      "  80.          82.85714286  85.71428571  88.57142857  91.42857143\n",
      "  94.28571429  97.14285714 100.         102.85714286 105.71428571\n",
      " 108.57142857 111.42857143 114.28571429 117.14285714 120.        ]\n"
     ]
    }
   ],
   "source": [
    "tgt_many = np.linspace(-20, 120, 50) #* np.ones(shape[:-1] + (50,))\n",
    "print(tgt_many)"
   ]
  },
  {
   "cell_type": "code",
   "execution_count": null,
   "id": "given-parade",
   "metadata": {},
   "outputs": [],
   "source": [
    "r_many = interp(tgt_many, z_lazy, fz_lazy)\n",
    "with Profiler() as prof, ResourceProfiler(dt=0.25) as rprof, CacheProfiler() as cprof:\n",
    "    %time r_many.compute()\n",
    "visualize([prof, rprof, cprof])"
   ]
  },
  {
   "cell_type": "code",
   "execution_count": 5,
   "id": "removable-spank",
   "metadata": {},
   "outputs": [
    {
     "name": "stdout",
     "output_type": "stream",
     "text": [
      "CPU times: user 7.34 s, sys: 311 ms, total: 7.65 s\n",
      "Wall time: 7.65 s\n"
     ]
    }
   ],
   "source": [
    "%time interp(tgt_many, z, fz)\n",
    "None"
   ]
  },
  {
   "cell_type": "code",
   "execution_count": 6,
   "id": "infrared-wayne",
   "metadata": {},
   "outputs": [
    {
     "name": "stdout",
     "output_type": "stream",
     "text": [
      "CPU times: user 17.9 s, sys: 5.26 s, total: 23.2 s\n",
      "Wall time: 7.14 s\n"
     ]
    }
   ],
   "source": [
    "%time interp(tgt_many, z_lazy, fz_lazy).compute()\n",
    "None"
   ]
  },
  {
   "cell_type": "code",
   "execution_count": null,
   "id": "distinct-shipping",
   "metadata": {},
   "outputs": [],
   "source": [
    "r_single = interp(tgt_single, z_lazy, fz_lazy)\n",
    "with Profiler() as prof, ResourceProfiler(dt=0.25) as rprof, CacheProfiler() as cprof:\n",
    "    %time r_single.compute()\n",
    "visualize([prof, rprof, cprof])"
   ]
  },
  {
   "cell_type": "code",
   "execution_count": 13,
   "id": "modified-organic",
   "metadata": {},
   "outputs": [
    {
     "name": "stdout",
     "output_type": "stream",
     "text": [
      "CPU times: user 1.4 s, sys: 74.4 ms, total: 1.48 s\n",
      "Wall time: 1.48 s\n"
     ]
    }
   ],
   "source": [
    "%time interp(tgt_single, z, fz)\n",
    "None"
   ]
  },
  {
   "cell_type": "code",
   "execution_count": 14,
   "id": "floating-spring",
   "metadata": {},
   "outputs": [
    {
     "name": "stdout",
     "output_type": "stream",
     "text": [
      "CPU times: user 15 s, sys: 20.4 s, total: 35.4 s\n",
      "Wall time: 13.2 s\n"
     ]
    }
   ],
   "source": [
    "%time interp(tgt_single, z_lazy, fz_lazy).compute()\n",
    "None"
   ]
  },
  {
   "cell_type": "code",
   "execution_count": null,
   "id": "rental-dating",
   "metadata": {},
   "outputs": [],
   "source": [
    "%%time\n",
    "for i in range(0, 3000, 750):\n",
    "    for j in range(0, 1000, 500):\n",
    "        interp(tgt_single, z[i:i+750, j:j+500], fz[i:i+750, j:j+500])"
   ]
  }
 ],
 "metadata": {
  "kernelspec": {
   "display_name": "Python 3",
   "language": "python",
   "name": "python3"
  },
  "language_info": {
   "codemirror_mode": {
    "name": "ipython",
    "version": 3
   },
   "file_extension": ".py",
   "mimetype": "text/x-python",
   "name": "python",
   "nbconvert_exporter": "python",
   "pygments_lexer": "ipython3",
   "version": "3.9.1"
  }
 },
 "nbformat": 4,
 "nbformat_minor": 5
}
